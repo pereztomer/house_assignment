{
 "cells": [
  {
   "cell_type": "code",
   "execution_count": 9,
   "metadata": {},
   "outputs": [],
   "source": [
    "from glob import glob"
   ]
  },
  {
   "cell_type": "code",
   "execution_count": 13,
   "metadata": {},
   "outputs": [
    {
     "name": "stdout",
     "output_type": "stream",
     "text": [
      "(576, 576)\n"
     ]
    }
   ],
   "source": [
    "# Imports PIL module\n",
    "from PIL import Image\n",
    "\n",
    "# open method used to open different extension image file\n",
    "im = Image.open(\"data/line/line_00000.png\")\n",
    "print(im.size)\n",
    "# This method will show image in any image viewer\n",
    "im.show()\n"
   ]
  },
  {
   "cell_type": "code",
   "execution_count": 14,
   "metadata": {},
   "outputs": [],
   "source": [
    "def count_files(class_type):\n",
    "    return len(glob(f'data/{class_type}/**.png'))\n",
    "    "
   ]
  },
  {
   "cell_type": "code",
   "execution_count": 15,
   "metadata": {},
   "outputs": [
    {
     "name": "stdout",
     "output_type": "stream",
     "text": [
      "line: 66\n",
      "parabola: 60\n",
      "sine: 56\n"
     ]
    }
   ],
   "source": [
    "# We can see that the classes are basicclly balanced\n",
    "# but on closer lock we can see there are duplicates\n",
    "for class_type in ['line', 'parabola', 'sine']:  \n",
    "    class_num = count_files(class_type)\n",
    "    print(f'{class_type}: {class_num}')"
   ]
  },
  {
   "cell_type": "code",
   "execution_count": 16,
   "metadata": {},
   "outputs": [
    {
     "name": "stdout",
     "output_type": "stream",
     "text": [
      "line: 33\n",
      "parabola: 30\n",
      "sine: 28\n"
     ]
    }
   ],
   "source": [
    "# after removing duplicates\n",
    "for class_type in ['line', 'parabola', 'sine']:  \n",
    "    class_num = count_files(class_type)\n",
    "    print(f'{class_type}: {class_num}')"
   ]
  }
 ],
 "metadata": {
  "kernelspec": {
   "display_name": "Python 3 (ipykernel)",
   "language": "python",
   "name": "python3"
  },
  "language_info": {
   "codemirror_mode": {
    "name": "ipython",
    "version": 3
   },
   "file_extension": ".py",
   "mimetype": "text/x-python",
   "name": "python",
   "nbconvert_exporter": "python",
   "pygments_lexer": "ipython3",
   "version": "3.8.10"
  }
 },
 "nbformat": 4,
 "nbformat_minor": 1
}
